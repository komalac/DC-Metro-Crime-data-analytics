{
 "cells": [
  {
   "cell_type": "markdown",
   "metadata": {},
   "source": [
    "## Import required libraries"
   ]
  },
  {
   "cell_type": "code",
   "execution_count": 118,
   "metadata": {},
   "outputs": [],
   "source": [
    "import pandas as pd\n",
    "import numpy as np"
   ]
  },
  {
   "cell_type": "markdown",
   "metadata": {},
   "source": [
    "## Create Dataframe from datafile(.csv)"
   ]
  },
  {
   "cell_type": "code",
   "execution_count": 119,
   "metadata": {},
   "outputs": [],
   "source": [
    "#loading the CSV file and reading \n",
    "crime_data_pd = pd.read_csv(\"data/crime_data.csv\")"
   ]
  },
  {
   "cell_type": "code",
   "execution_count": 120,
   "metadata": {},
   "outputs": [
    {
     "data": {
      "text/plain": [
       "Index(['abc', 'X', 'REPORT_DAT', 'SHIFT', 'OFFENSE', 'METHOD', 'BLOCK',\n",
       "       'DISTRICT', 'PSA', 'WARD', 'ANC', 'NEIGHBORHOOD_CLUSTER', 'BLOCK_GROUP',\n",
       "       'CENSUS_TRACT', 'VOTING_PRECINCT', 'CCN', 'START_DATE', 'END_DATE',\n",
       "       'XBLOCK', 'YBLOCK', 'optional', 'date', 'year', 'month', 'day', 'hour',\n",
       "       'minute', 'second', 'EW', 'NS', 'quad', 'crimetype'],\n",
       "      dtype='object')"
      ]
     },
     "execution_count": 120,
     "metadata": {},
     "output_type": "execute_result"
    }
   ],
   "source": [
    "#Display column names\n",
    "crime_data_pd.columns"
   ]
  },
  {
   "cell_type": "markdown",
   "metadata": {},
   "source": [
    "## Clean Dataframe created above"
   ]
  },
  {
   "cell_type": "code",
   "execution_count": 121,
   "metadata": {},
   "outputs": [],
   "source": [
    "#list of columns to be deleted\n",
    "dr_col=[\"abc\",\"X\",\"REPORT_DAT\",\"date\",\"CENSUS_TRACT\",\"VOTING_PRECINCT\",\"optional\",\"EW\",\"NS\",\"NEIGHBORHOOD_CLUSTER\",\"BLOCK_GROUP\"]\n",
    "#delete/drop columns from above list\n",
    "clean_crimeData = crime_data_pd.drop(dr_col,axis=1)"
   ]
  },
  {
   "cell_type": "code",
   "execution_count": 122,
   "metadata": {},
   "outputs": [],
   "source": [
    "#rename columns\n",
    "clean_crimeData.rename(columns = {\"XBLOCK\":\"Lat\", \"YBLOCK\":\"Log\"},inplace=True)"
   ]
  },
  {
   "cell_type": "code",
   "execution_count": 123,
   "metadata": {},
   "outputs": [],
   "source": [
    "# Setting CCN as index\n",
    "clean_crimeData.set_index(\"CCN\", inplace=True)"
   ]
  },
  {
   "cell_type": "code",
   "execution_count": 124,
   "metadata": {},
   "outputs": [],
   "source": [
    "# Replacing END_DATE with START_DATE value when END_DATE is empty\n",
    "clean_crimeData.END_DATE.fillna(clean_crimeData.START_DATE, inplace=True)"
   ]
  },
  {
   "cell_type": "code",
   "execution_count": 125,
   "metadata": {},
   "outputs": [],
   "source": [
    "# dropping all rows with NA values\n",
    "clean_crimeData.dropna(axis=0,how='any',inplace=True)"
   ]
  },
  {
   "cell_type": "markdown",
   "metadata": {},
   "source": [
    "## Validate count of values in each column of cleaned Dataframe - it should match"
   ]
  },
  {
   "cell_type": "code",
   "execution_count": 126,
   "metadata": {},
   "outputs": [
    {
     "data": {
      "text/plain": [
       "SHIFT         342603\n",
       "OFFENSE       342603\n",
       "METHOD        342603\n",
       "BLOCK         342603\n",
       "DISTRICT      342603\n",
       "PSA           342603\n",
       "WARD          342603\n",
       "ANC           342603\n",
       "START_DATE    342603\n",
       "END_DATE      342603\n",
       "Lat           342603\n",
       "Log           342603\n",
       "year          342603\n",
       "month         342603\n",
       "day           342603\n",
       "hour          342603\n",
       "minute        342603\n",
       "second        342603\n",
       "quad          342603\n",
       "crimetype     342603\n",
       "dtype: int64"
      ]
     },
     "execution_count": 126,
     "metadata": {},
     "output_type": "execute_result"
    }
   ],
   "source": [
    "clean_crimeData.count(0)"
   ]
  },
  {
   "cell_type": "code",
   "execution_count": null,
   "metadata": {},
   "outputs": [],
   "source": []
  }
 ],
 "metadata": {
  "kernelspec": {
   "display_name": "Python 3",
   "language": "python",
   "name": "python3"
  }
 },
 "nbformat": 4,
 "nbformat_minor": 2
}
