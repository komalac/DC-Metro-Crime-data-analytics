{
 "cells": [
  {
   "cell_type": "code",
   "execution_count": 19,
   "metadata": {},
   "outputs": [],
   "source": [
    "import pandas as pd\n",
    "import numpy as np\n",
    "import matplotlib.pyplot as plt\n",
    "import seaborn as sns\n",
    "import requests\n",
    "import time\n",
    "import json\n",
    "import os\n",
    "from pprint import pprint"
   ]
  },
  {
   "cell_type": "code",
   "execution_count": 20,
   "metadata": {},
   "outputs": [],
   "source": [
    "#load CSV file\n",
    "clean_crime_data = pd.read_csv(\"clean_crimeData.csv\")"
   ]
  },
  {
   "cell_type": "code",
   "execution_count": 21,
   "metadata": {},
   "outputs": [
    {
     "data": {
      "text/html": [
       "<div>\n",
       "<style scoped>\n",
       "    .dataframe tbody tr th:only-of-type {\n",
       "        vertical-align: middle;\n",
       "    }\n",
       "\n",
       "    .dataframe tbody tr th {\n",
       "        vertical-align: top;\n",
       "    }\n",
       "\n",
       "    .dataframe thead th {\n",
       "        text-align: right;\n",
       "    }\n",
       "</style>\n",
       "<table border=\"1\" class=\"dataframe\">\n",
       "  <thead>\n",
       "    <tr style=\"text-align: right;\">\n",
       "      <th></th>\n",
       "      <th>CCN</th>\n",
       "      <th>SHIFT</th>\n",
       "      <th>OFFENSE</th>\n",
       "      <th>METHOD</th>\n",
       "      <th>BLOCK</th>\n",
       "      <th>DISTRICT</th>\n",
       "      <th>PSA</th>\n",
       "      <th>WARD</th>\n",
       "      <th>ANC</th>\n",
       "      <th>START_DATE</th>\n",
       "      <th>...</th>\n",
       "      <th>Lat</th>\n",
       "      <th>Log</th>\n",
       "      <th>year</th>\n",
       "      <th>month</th>\n",
       "      <th>day</th>\n",
       "      <th>hour</th>\n",
       "      <th>minute</th>\n",
       "      <th>second</th>\n",
       "      <th>quad</th>\n",
       "      <th>crimetype</th>\n",
       "    </tr>\n",
       "  </thead>\n",
       "  <tbody>\n",
       "    <tr>\n",
       "      <th>0</th>\n",
       "      <td>8123749</td>\n",
       "      <td>EVENING</td>\n",
       "      <td>THEFT/OTHER</td>\n",
       "      <td>OTHERS</td>\n",
       "      <td>3500 - 3599 BLOCK OF R STREET NW</td>\n",
       "      <td>2.0</td>\n",
       "      <td>206.0</td>\n",
       "      <td>2</td>\n",
       "      <td>2E</td>\n",
       "      <td>8/30/2008 9:30:00 PM</td>\n",
       "      <td>...</td>\n",
       "      <td>-77.070209</td>\n",
       "      <td>38.913633</td>\n",
       "      <td>2008</td>\n",
       "      <td>8</td>\n",
       "      <td>31</td>\n",
       "      <td>20</td>\n",
       "      <td>47</td>\n",
       "      <td>0</td>\n",
       "      <td>Northwest</td>\n",
       "      <td>Non-Violent</td>\n",
       "    </tr>\n",
       "    <tr>\n",
       "      <th>1</th>\n",
       "      <td>8123824</td>\n",
       "      <td>MIDNIGHT</td>\n",
       "      <td>MOTOR VEHICLE THEFT</td>\n",
       "      <td>OTHERS</td>\n",
       "      <td>2000 - 2015 BLOCK OF O STREET NW</td>\n",
       "      <td>2.0</td>\n",
       "      <td>208.0</td>\n",
       "      <td>2</td>\n",
       "      <td>2B</td>\n",
       "      <td>8/31/2008 7:30:00 PM</td>\n",
       "      <td>...</td>\n",
       "      <td>-77.045323</td>\n",
       "      <td>38.908564</td>\n",
       "      <td>2008</td>\n",
       "      <td>9</td>\n",
       "      <td>1</td>\n",
       "      <td>0</td>\n",
       "      <td>45</td>\n",
       "      <td>0</td>\n",
       "      <td>Northwest</td>\n",
       "      <td>Non-Violent</td>\n",
       "    </tr>\n",
       "    <tr>\n",
       "      <th>2</th>\n",
       "      <td>8123835</td>\n",
       "      <td>MIDNIGHT</td>\n",
       "      <td>THEFT/OTHER</td>\n",
       "      <td>OTHERS</td>\n",
       "      <td>700 - 799 BLOCK OF 11TH STREET NW</td>\n",
       "      <td>1.0</td>\n",
       "      <td>101.0</td>\n",
       "      <td>2</td>\n",
       "      <td>2C</td>\n",
       "      <td>8/31/2008 11:00:00 PM</td>\n",
       "      <td>...</td>\n",
       "      <td>-77.027045</td>\n",
       "      <td>38.899057</td>\n",
       "      <td>2008</td>\n",
       "      <td>9</td>\n",
       "      <td>1</td>\n",
       "      <td>3</td>\n",
       "      <td>0</td>\n",
       "      <td>0</td>\n",
       "      <td>Northeast</td>\n",
       "      <td>Non-Violent</td>\n",
       "    </tr>\n",
       "    <tr>\n",
       "      <th>3</th>\n",
       "      <td>8127848</td>\n",
       "      <td>DAY</td>\n",
       "      <td>THEFT/OTHER</td>\n",
       "      <td>OTHERS</td>\n",
       "      <td>1700 - 1799 BLOCK OF P STREET NW</td>\n",
       "      <td>2.0</td>\n",
       "      <td>208.0</td>\n",
       "      <td>2</td>\n",
       "      <td>2B</td>\n",
       "      <td>9/9/2008 7:10:00 AM</td>\n",
       "      <td>...</td>\n",
       "      <td>-77.040089</td>\n",
       "      <td>38.909638</td>\n",
       "      <td>2008</td>\n",
       "      <td>9</td>\n",
       "      <td>9</td>\n",
       "      <td>7</td>\n",
       "      <td>46</td>\n",
       "      <td>0</td>\n",
       "      <td>Northwest</td>\n",
       "      <td>Non-Violent</td>\n",
       "    </tr>\n",
       "    <tr>\n",
       "      <th>4</th>\n",
       "      <td>8120153</td>\n",
       "      <td>EVENING</td>\n",
       "      <td>MOTOR VEHICLE THEFT</td>\n",
       "      <td>OTHERS</td>\n",
       "      <td>500 - 599 BLOCK OF INDIANA AVENUE NW</td>\n",
       "      <td>1.0</td>\n",
       "      <td>102.0</td>\n",
       "      <td>2</td>\n",
       "      <td>2C</td>\n",
       "      <td>8/5/2008 12:00:00 PM</td>\n",
       "      <td>...</td>\n",
       "      <td>-77.019377</td>\n",
       "      <td>38.894573</td>\n",
       "      <td>2008</td>\n",
       "      <td>8</td>\n",
       "      <td>24</td>\n",
       "      <td>20</td>\n",
       "      <td>0</td>\n",
       "      <td>0</td>\n",
       "      <td>Northeast</td>\n",
       "      <td>Non-Violent</td>\n",
       "    </tr>\n",
       "  </tbody>\n",
       "</table>\n",
       "<p>5 rows × 21 columns</p>\n",
       "</div>"
      ],
      "text/plain": [
       "       CCN     SHIFT              OFFENSE  METHOD  \\\n",
       "0  8123749   EVENING          THEFT/OTHER  OTHERS   \n",
       "1  8123824  MIDNIGHT  MOTOR VEHICLE THEFT  OTHERS   \n",
       "2  8123835  MIDNIGHT          THEFT/OTHER  OTHERS   \n",
       "3  8127848       DAY          THEFT/OTHER  OTHERS   \n",
       "4  8120153   EVENING  MOTOR VEHICLE THEFT  OTHERS   \n",
       "\n",
       "                                  BLOCK  DISTRICT    PSA  WARD ANC  \\\n",
       "0      3500 - 3599 BLOCK OF R STREET NW       2.0  206.0     2  2E   \n",
       "1      2000 - 2015 BLOCK OF O STREET NW       2.0  208.0     2  2B   \n",
       "2     700 - 799 BLOCK OF 11TH STREET NW       1.0  101.0     2  2C   \n",
       "3      1700 - 1799 BLOCK OF P STREET NW       2.0  208.0     2  2B   \n",
       "4  500 - 599 BLOCK OF INDIANA AVENUE NW       1.0  102.0     2  2C   \n",
       "\n",
       "              START_DATE     ...             Lat        Log  year  month  day  \\\n",
       "0   8/30/2008 9:30:00 PM     ...      -77.070209  38.913633  2008      8   31   \n",
       "1   8/31/2008 7:30:00 PM     ...      -77.045323  38.908564  2008      9    1   \n",
       "2  8/31/2008 11:00:00 PM     ...      -77.027045  38.899057  2008      9    1   \n",
       "3    9/9/2008 7:10:00 AM     ...      -77.040089  38.909638  2008      9    9   \n",
       "4   8/5/2008 12:00:00 PM     ...      -77.019377  38.894573  2008      8   24   \n",
       "\n",
       "   hour  minute  second       quad    crimetype  \n",
       "0    20      47       0  Northwest  Non-Violent  \n",
       "1     0      45       0  Northwest  Non-Violent  \n",
       "2     3       0       0  Northeast  Non-Violent  \n",
       "3     7      46       0  Northwest  Non-Violent  \n",
       "4    20       0       0  Northeast  Non-Violent  \n",
       "\n",
       "[5 rows x 21 columns]"
      ]
     },
     "execution_count": 21,
     "metadata": {},
     "output_type": "execute_result"
    }
   ],
   "source": [
    "clean_crime_data.head()"
   ]
  },
  {
   "cell_type": "markdown",
   "metadata": {},
   "source": [
    "## Which District Has More Crime?"
   ]
  },
  {
   "cell_type": "code",
   "execution_count": 22,
   "metadata": {},
   "outputs": [
    {
     "data": {
      "text/html": [
       "<div>\n",
       "<style scoped>\n",
       "    .dataframe tbody tr th:only-of-type {\n",
       "        vertical-align: middle;\n",
       "    }\n",
       "\n",
       "    .dataframe tbody tr th {\n",
       "        vertical-align: top;\n",
       "    }\n",
       "\n",
       "    .dataframe thead th {\n",
       "        text-align: right;\n",
       "    }\n",
       "</style>\n",
       "<table border=\"1\" class=\"dataframe\">\n",
       "  <thead>\n",
       "    <tr style=\"text-align: right;\">\n",
       "      <th></th>\n",
       "      <th>CCN</th>\n",
       "    </tr>\n",
       "    <tr>\n",
       "      <th>DISTRICT</th>\n",
       "      <th></th>\n",
       "    </tr>\n",
       "  </thead>\n",
       "  <tbody>\n",
       "    <tr>\n",
       "      <th>1.0</th>\n",
       "      <td>58364</td>\n",
       "    </tr>\n",
       "    <tr>\n",
       "      <th>2.0</th>\n",
       "      <td>54446</td>\n",
       "    </tr>\n",
       "    <tr>\n",
       "      <th>3.0</th>\n",
       "      <td>57316</td>\n",
       "    </tr>\n",
       "    <tr>\n",
       "      <th>4.0</th>\n",
       "      <td>44897</td>\n",
       "    </tr>\n",
       "    <tr>\n",
       "      <th>5.0</th>\n",
       "      <td>45495</td>\n",
       "    </tr>\n",
       "    <tr>\n",
       "      <th>6.0</th>\n",
       "      <td>43880</td>\n",
       "    </tr>\n",
       "    <tr>\n",
       "      <th>7.0</th>\n",
       "      <td>38205</td>\n",
       "    </tr>\n",
       "  </tbody>\n",
       "</table>\n",
       "</div>"
      ],
      "text/plain": [
       "            CCN\n",
       "DISTRICT       \n",
       "1.0       58364\n",
       "2.0       54446\n",
       "3.0       57316\n",
       "4.0       44897\n",
       "5.0       45495\n",
       "6.0       43880\n",
       "7.0       38205"
      ]
     },
     "execution_count": 22,
     "metadata": {},
     "output_type": "execute_result"
    }
   ],
   "source": [
    "clean_crime_bin = clean_crime_data[0:len(clean_crime_data)].copy()\n",
    "clean_crime_bin['year']=clean_crime_bin.year.astype('int64')\n",
    "clean_crime_bin[\"Year\"] = pd.cut(clean_crime_bin[\"year\"], bins, labels=group_names)\n",
    "CrimeDistrict_Cnt = pd.DataFrame(clean_crime_bin.groupby([\"DISTRICT\"])[\"CCN\"].count())\n",
    "CrimeDistrict_Cnt"
   ]
  },
  {
   "cell_type": "code",
   "execution_count": 50,
   "metadata": {},
   "outputs": [
    {
     "data": {
      "text/plain": [
       "Text(0.5,1,'% of Crimes by District')"
      ]
     },
     "execution_count": 50,
     "metadata": {},
     "output_type": "execute_result"
    },
    {
     "data": {
      "image/png": "[encoded data removed]",
      "text/plain": [
       "<Figure size 432x288 with 1 Axes>"
      ]
     },
     "metadata": {},
     "output_type": "display_data"
    }
   ],
   "source": [
    "crime_by_dist = clean_crime_data.groupby('DISTRICT')\n",
    "dist_sum = crime_by_dist.sum()['CCN']\n",
    "\n",
    "labels = dist_sum.index\n",
    "colors = [\"lightskyblue\", \"orange\", \"limegreen\", \"gold\", \"violet\", \"lightcoral\", \"teal\"]\n",
    "explode = [.1, 0, 0, 0, 0, 0, 0]\n",
    "plt.pie(dist_sum, startangle = 90, colors = colors, explode = explode, labels = labels, autopct = \"%1.1f%%\",\n",
    "       shadow = True)\n",
    "plt.title('% of Crimes by District')"
   ]
  },
  {
   "cell_type": "markdown",
   "metadata": {},
   "source": [
    "## Type of Crime by District"
   ]
  },
  {
   "cell_type": "code",
   "execution_count": 54,
   "metadata": {},
   "outputs": [
    {
     "data": {
      "text/plain": [
       "<pandas.core.groupby.groupby.DataFrameGroupBy object at 0x000001530D7598D0>"
      ]
     },
     "execution_count": 54,
     "metadata": {},
     "output_type": "execute_result"
    }
   ],
   "source": []
  },
  {
   "cell_type": "code",
   "execution_count": null,
   "metadata": {},
   "outputs": [],
   "source": []
  }
 ],
 "metadata": {
  "kernelspec": {
   "display_name": "Python 3",
   "language": "python",
   "name": "python3"
  },
  "language_info": {
   "codemirror_mode": {
    "name": "ipython",
    "version": 3
   },
   "file_extension": ".py",
   "mimetype": "text/x-python",
   "name": "python",
   "nbconvert_exporter": "python",
   "pygments_lexer": "ipython3",
   "version": "3.6.5"
  }
 },
 "nbformat": 4,
 "nbformat_minor": 2
}
