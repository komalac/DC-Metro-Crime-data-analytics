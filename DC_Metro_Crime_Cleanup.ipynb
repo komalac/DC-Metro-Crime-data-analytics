{
 "cells": [
  {
   "cell_type": "code",
   "execution_count": 1,
   "metadata": {},
   "outputs": [],
   "source": [
    "import pandas as pd\n",
    "import numpy as np"
   ]
  },
  {
   "cell_type": "code",
   "execution_count": 2,
   "metadata": {},
   "outputs": [],
   "source": [
    "#loading the CSV file and reading \n",
    "crime_data_pd = pd.read_csv(\"dc_crime_add_vars.csv\")"
   ]
  },
  {
   "cell_type": "code",
   "execution_count": 3,
   "metadata": {},
   "outputs": [
    {
     "data": {
      "text/plain": [
       "Index(['Unnamed: 0', 'X', 'REPORT_DAT', 'SHIFT', 'OFFENSE', 'METHOD', 'BLOCK',\n",
       "       'DISTRICT', 'PSA', 'WARD', 'ANC', 'NEIGHBORHOOD_CLUSTER', 'BLOCK_GROUP',\n",
       "       'CENSUS_TRACT', 'VOTING_PRECINCT', 'CCN', 'START_DATE', 'END_DATE',\n",
       "       'XBLOCK', 'YBLOCK', 'optional', 'date', 'year', 'month', 'day', 'hour',\n",
       "       'minute', 'second', 'EW', 'NS', 'quad', 'crimetype'],\n",
       "      dtype='object')"
      ]
     },
     "execution_count": 3,
     "metadata": {},
     "output_type": "execute_result"
    }
   ],
   "source": [
    "#Display column names\n",
    "crime_data_pd.columns"
   ]
  },
  {
   "cell_type": "code",
   "execution_count": 4,
   "metadata": {},
   "outputs": [],
   "source": [
    "#list of columns to be deleted\n",
    "dr_col=[\"Unnamed: 0\",\"X\",\"REPORT_DAT\",\"date\",\"CENSUS_TRACT\",\"VOTING_PRECINCT\",\"optional\",\"EW\",\"NS\",\"NEIGHBORHOOD_CLUSTER\",\"BLOCK_GROUP\"]\n",
    "#delete/drop columns from above list\n",
    "clean_crimeData = crime_data_pd.drop(dr_col,axis=1)"
   ]
  },
  {
   "cell_type": "code",
   "execution_count": 5,
   "metadata": {},
   "outputs": [],
   "source": [
    "#rename columns\n",
    "clean_crimeData.rename(columns = {\"XBLOCK\":\"Lat\", \"YBLOCK\":\"Log\"},inplace=True)"
   ]
  },
  {
   "cell_type": "code",
   "execution_count": 6,
   "metadata": {},
   "outputs": [],
   "source": [
    "# Setting CCN as index\n",
    "clean_crimeData.set_index(\"CCN\", inplace=True)"
   ]
  },
  {
   "cell_type": "code",
   "execution_count": 7,
   "metadata": {},
   "outputs": [],
   "source": [
    "# Replacing END_DATE with START_DATE value when END_DATE is empty\n",
    "clean_crimeData.END_DATE.fillna(clean_crimeData.START_DATE, inplace=True)"
   ]
  },
  {
   "cell_type": "code",
   "execution_count": 8,
   "metadata": {},
   "outputs": [],
   "source": [
    "# dropping all rows with NA values\n",
    "clean_crimeData.dropna(axis=0,how='any',inplace=True)"
   ]
  },
  {
   "cell_type": "code",
   "execution_count": 9,
   "metadata": {},
   "outputs": [
    {
     "data": {
      "text/plain": [
       "SHIFT         342603\n",
       "OFFENSE       342603\n",
       "METHOD        342603\n",
       "BLOCK         342603\n",
       "DISTRICT      342603\n",
       "PSA           342603\n",
       "WARD          342603\n",
       "ANC           342603\n",
       "START_DATE    342603\n",
       "END_DATE      342603\n",
       "Lat           342603\n",
       "Log           342603\n",
       "year          342603\n",
       "month         342603\n",
       "day           342603\n",
       "hour          342603\n",
       "minute        342603\n",
       "second        342603\n",
       "quad          342603\n",
       "crimetype     342603\n",
       "dtype: int64"
      ]
     },
     "execution_count": 9,
     "metadata": {},
     "output_type": "execute_result"
    }
   ],
   "source": [
    "clean_crimeData.count(0)"
   ]
  },
  {
   "cell_type": "code",
   "execution_count": 10,
   "metadata": {},
   "outputs": [
    {
     "data": {
      "text/html": [
       "<div>\n",
       "<style scoped>\n",
       "    .dataframe tbody tr th:only-of-type {\n",
       "        vertical-align: middle;\n",
       "    }\n",
       "\n",
       "    .dataframe tbody tr th {\n",
       "        vertical-align: top;\n",
       "    }\n",
       "\n",
       "    .dataframe thead th {\n",
       "        text-align: right;\n",
       "    }\n",
       "</style>\n",
       "<table border=\"1\" class=\"dataframe\">\n",
       "  <thead>\n",
       "    <tr style=\"text-align: right;\">\n",
       "      <th></th>\n",
       "      <th>SHIFT</th>\n",
       "      <th>OFFENSE</th>\n",
       "      <th>METHOD</th>\n",
       "      <th>BLOCK</th>\n",
       "      <th>DISTRICT</th>\n",
       "      <th>PSA</th>\n",
       "      <th>WARD</th>\n",
       "      <th>ANC</th>\n",
       "      <th>START_DATE</th>\n",
       "      <th>END_DATE</th>\n",
       "      <th>Lat</th>\n",
       "      <th>Log</th>\n",
       "      <th>year</th>\n",
       "      <th>month</th>\n",
       "      <th>day</th>\n",
       "      <th>hour</th>\n",
       "      <th>minute</th>\n",
       "      <th>second</th>\n",
       "      <th>quad</th>\n",
       "      <th>crimetype</th>\n",
       "    </tr>\n",
       "    <tr>\n",
       "      <th>CCN</th>\n",
       "      <th></th>\n",
       "      <th></th>\n",
       "      <th></th>\n",
       "      <th></th>\n",
       "      <th></th>\n",
       "      <th></th>\n",
       "      <th></th>\n",
       "      <th></th>\n",
       "      <th></th>\n",
       "      <th></th>\n",
       "      <th></th>\n",
       "      <th></th>\n",
       "      <th></th>\n",
       "      <th></th>\n",
       "      <th></th>\n",
       "      <th></th>\n",
       "      <th></th>\n",
       "      <th></th>\n",
       "      <th></th>\n",
       "      <th></th>\n",
       "    </tr>\n",
       "  </thead>\n",
       "  <tbody>\n",
       "    <tr>\n",
       "      <th>8123749</th>\n",
       "      <td>EVENING</td>\n",
       "      <td>THEFT/OTHER</td>\n",
       "      <td>OTHERS</td>\n",
       "      <td>3500 - 3599 BLOCK OF R STREET NW</td>\n",
       "      <td>2.0</td>\n",
       "      <td>206.0</td>\n",
       "      <td>2</td>\n",
       "      <td>2E</td>\n",
       "      <td>8/30/2008 9:30:00 PM</td>\n",
       "      <td>8/31/2008 6:40:00 PM</td>\n",
       "      <td>-77.070209</td>\n",
       "      <td>38.913633</td>\n",
       "      <td>2008</td>\n",
       "      <td>8</td>\n",
       "      <td>31</td>\n",
       "      <td>20</td>\n",
       "      <td>47</td>\n",
       "      <td>0</td>\n",
       "      <td>Northwest</td>\n",
       "      <td>Non-Violent</td>\n",
       "    </tr>\n",
       "    <tr>\n",
       "      <th>8123824</th>\n",
       "      <td>MIDNIGHT</td>\n",
       "      <td>MOTOR VEHICLE THEFT</td>\n",
       "      <td>OTHERS</td>\n",
       "      <td>2000 - 2015 BLOCK OF O STREET NW</td>\n",
       "      <td>2.0</td>\n",
       "      <td>208.0</td>\n",
       "      <td>2</td>\n",
       "      <td>2B</td>\n",
       "      <td>8/31/2008 7:30:00 PM</td>\n",
       "      <td>8/31/2008 11:30:00 PM</td>\n",
       "      <td>-77.045323</td>\n",
       "      <td>38.908564</td>\n",
       "      <td>2008</td>\n",
       "      <td>9</td>\n",
       "      <td>1</td>\n",
       "      <td>0</td>\n",
       "      <td>45</td>\n",
       "      <td>0</td>\n",
       "      <td>Northwest</td>\n",
       "      <td>Non-Violent</td>\n",
       "    </tr>\n",
       "    <tr>\n",
       "      <th>8123835</th>\n",
       "      <td>MIDNIGHT</td>\n",
       "      <td>THEFT/OTHER</td>\n",
       "      <td>OTHERS</td>\n",
       "      <td>700 - 799 BLOCK OF 11TH STREET NW</td>\n",
       "      <td>1.0</td>\n",
       "      <td>101.0</td>\n",
       "      <td>2</td>\n",
       "      <td>2C</td>\n",
       "      <td>8/31/2008 11:00:00 PM</td>\n",
       "      <td>9/1/2008 2:00:00 AM</td>\n",
       "      <td>-77.027045</td>\n",
       "      <td>38.899057</td>\n",
       "      <td>2008</td>\n",
       "      <td>9</td>\n",
       "      <td>1</td>\n",
       "      <td>3</td>\n",
       "      <td>0</td>\n",
       "      <td>0</td>\n",
       "      <td>Northeast</td>\n",
       "      <td>Non-Violent</td>\n",
       "    </tr>\n",
       "    <tr>\n",
       "      <th>8127848</th>\n",
       "      <td>DAY</td>\n",
       "      <td>THEFT/OTHER</td>\n",
       "      <td>OTHERS</td>\n",
       "      <td>1700 - 1799 BLOCK OF P STREET NW</td>\n",
       "      <td>2.0</td>\n",
       "      <td>208.0</td>\n",
       "      <td>2</td>\n",
       "      <td>2B</td>\n",
       "      <td>9/9/2008 7:10:00 AM</td>\n",
       "      <td>9/9/2008 12:00:00 AM</td>\n",
       "      <td>-77.040089</td>\n",
       "      <td>38.909638</td>\n",
       "      <td>2008</td>\n",
       "      <td>9</td>\n",
       "      <td>9</td>\n",
       "      <td>7</td>\n",
       "      <td>46</td>\n",
       "      <td>0</td>\n",
       "      <td>Northwest</td>\n",
       "      <td>Non-Violent</td>\n",
       "    </tr>\n",
       "    <tr>\n",
       "      <th>8120153</th>\n",
       "      <td>EVENING</td>\n",
       "      <td>MOTOR VEHICLE THEFT</td>\n",
       "      <td>OTHERS</td>\n",
       "      <td>500 - 599 BLOCK OF INDIANA AVENUE NW</td>\n",
       "      <td>1.0</td>\n",
       "      <td>102.0</td>\n",
       "      <td>2</td>\n",
       "      <td>2C</td>\n",
       "      <td>8/5/2008 12:00:00 PM</td>\n",
       "      <td>8/5/2008 1:00:00 PM</td>\n",
       "      <td>-77.019377</td>\n",
       "      <td>38.894573</td>\n",
       "      <td>2008</td>\n",
       "      <td>8</td>\n",
       "      <td>24</td>\n",
       "      <td>20</td>\n",
       "      <td>0</td>\n",
       "      <td>0</td>\n",
       "      <td>Northeast</td>\n",
       "      <td>Non-Violent</td>\n",
       "    </tr>\n",
       "  </tbody>\n",
       "</table>\n",
       "</div>"
      ],
      "text/plain": [
       "            SHIFT              OFFENSE  METHOD  \\\n",
       "CCN                                              \n",
       "8123749   EVENING          THEFT/OTHER  OTHERS   \n",
       "8123824  MIDNIGHT  MOTOR VEHICLE THEFT  OTHERS   \n",
       "8123835  MIDNIGHT          THEFT/OTHER  OTHERS   \n",
       "8127848       DAY          THEFT/OTHER  OTHERS   \n",
       "8120153   EVENING  MOTOR VEHICLE THEFT  OTHERS   \n",
       "\n",
       "                                        BLOCK  DISTRICT    PSA  WARD ANC  \\\n",
       "CCN                                                                        \n",
       "8123749      3500 - 3599 BLOCK OF R STREET NW       2.0  206.0     2  2E   \n",
       "8123824      2000 - 2015 BLOCK OF O STREET NW       2.0  208.0     2  2B   \n",
       "8123835     700 - 799 BLOCK OF 11TH STREET NW       1.0  101.0     2  2C   \n",
       "8127848      1700 - 1799 BLOCK OF P STREET NW       2.0  208.0     2  2B   \n",
       "8120153  500 - 599 BLOCK OF INDIANA AVENUE NW       1.0  102.0     2  2C   \n",
       "\n",
       "                    START_DATE               END_DATE        Lat        Log  \\\n",
       "CCN                                                                           \n",
       "8123749   8/30/2008 9:30:00 PM   8/31/2008 6:40:00 PM -77.070209  38.913633   \n",
       "8123824   8/31/2008 7:30:00 PM  8/31/2008 11:30:00 PM -77.045323  38.908564   \n",
       "8123835  8/31/2008 11:00:00 PM    9/1/2008 2:00:00 AM -77.027045  38.899057   \n",
       "8127848    9/9/2008 7:10:00 AM   9/9/2008 12:00:00 AM -77.040089  38.909638   \n",
       "8120153   8/5/2008 12:00:00 PM    8/5/2008 1:00:00 PM -77.019377  38.894573   \n",
       "\n",
       "         year  month  day  hour  minute  second       quad    crimetype  \n",
       "CCN                                                                      \n",
       "8123749  2008      8   31    20      47       0  Northwest  Non-Violent  \n",
       "8123824  2008      9    1     0      45       0  Northwest  Non-Violent  \n",
       "8123835  2008      9    1     3       0       0  Northeast  Non-Violent  \n",
       "8127848  2008      9    9     7      46       0  Northwest  Non-Violent  \n",
       "8120153  2008      8   24    20       0       0  Northeast  Non-Violent  "
      ]
     },
     "execution_count": 10,
     "metadata": {},
     "output_type": "execute_result"
    }
   ],
   "source": [
    "clean_crimeData.head()"
   ]
  },
  {
   "cell_type": "code",
   "execution_count": 11,
   "metadata": {},
   "outputs": [],
   "source": [
    "clean_crimeData.to_csv(\"clean_crimeData.csv\")"
   ]
  },
  {
   "cell_type": "code",
   "execution_count": null,
   "metadata": {},
   "outputs": [],
   "source": []
  }
 ],
 "metadata": {
  "kernelspec": {
   "display_name": "Python 3",
   "language": "python",
   "name": "python3"
  },
  "language_info": {
   "codemirror_mode": {
    "name": "ipython",
    "version": 3
   },
   "file_extension": ".py",
   "mimetype": "text/x-python",
   "name": "python",
   "nbconvert_exporter": "python",
   "pygments_lexer": "ipython3",
   "version": "3.6.5"
  }
 },
 "nbformat": 4,
 "nbformat_minor": 2
}
